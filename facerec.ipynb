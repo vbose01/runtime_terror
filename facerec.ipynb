{
  "nbformat": 4,
  "nbformat_minor": 0,
  "metadata": {
    "colab": {
      "provenance": []
    },
    "kernelspec": {
      "name": "python3",
      "display_name": "Python 3"
    },
    "language_info": {
      "name": "python"
    },
    "accelerator": "GPU",
    "gpuClass": "standard"
  },
  "cells": [
    {
      "cell_type": "code",
      "execution_count": 2,
      "metadata": {
        "id": "pvyHn_SRSQoD"
      },
      "outputs": [],
      "source": [
        "import dlib"
      ]
    },
    {
      "cell_type": "code",
      "source": [
        "!pip install face_recognition"
      ],
      "metadata": {
        "colab": {
          "base_uri": "https://localhost:8080/"
        },
        "id": "kD40i3cCSrx4",
        "outputId": "97ad926a-77dd-4770-89c9-d35068c5d457"
      },
      "execution_count": 3,
      "outputs": [
        {
          "output_type": "stream",
          "name": "stdout",
          "text": [
            "Looking in indexes: https://pypi.org/simple, https://us-python.pkg.dev/colab-wheels/public/simple/\n",
            "Collecting face_recognition\n",
            "  Downloading face_recognition-1.3.0-py2.py3-none-any.whl (15 kB)\n",
            "Requirement already satisfied: numpy in /usr/local/lib/python3.7/dist-packages (from face_recognition) (1.21.6)\n",
            "Requirement already satisfied: Pillow in /usr/local/lib/python3.7/dist-packages (from face_recognition) (7.1.2)\n",
            "Requirement already satisfied: Click>=6.0 in /usr/local/lib/python3.7/dist-packages (from face_recognition) (7.1.2)\n",
            "Collecting face-recognition-models>=0.3.0\n",
            "  Downloading face_recognition_models-0.3.0.tar.gz (100.1 MB)\n",
            "\u001b[K     |████████████████████████████████| 100.1 MB 23 kB/s \n",
            "\u001b[?25hRequirement already satisfied: dlib>=19.7 in /usr/local/lib/python3.7/dist-packages (from face_recognition) (19.24.0)\n",
            "Building wheels for collected packages: face-recognition-models\n",
            "  Building wheel for face-recognition-models (setup.py) ... \u001b[?25l\u001b[?25hdone\n",
            "  Created wheel for face-recognition-models: filename=face_recognition_models-0.3.0-py2.py3-none-any.whl size=100566186 sha256=18797ed018aa565479c924184a6fbed7226b51ccb1581737c757275abc2e0aab\n",
            "  Stored in directory: /root/.cache/pip/wheels/d6/81/3c/884bcd5e1c120ff548d57c2ecc9ebf3281c9a6f7c0e7e7947a\n",
            "Successfully built face-recognition-models\n",
            "Installing collected packages: face-recognition-models, face-recognition\n",
            "Successfully installed face-recognition-1.3.0 face-recognition-models-0.3.0\n"
          ]
        }
      ]
    },
    {
      "cell_type": "code",
      "source": [
        "import face_recognition"
      ],
      "metadata": {
        "id": "PgLzWQ1oUElT"
      },
      "execution_count": 4,
      "outputs": []
    },
    {
      "cell_type": "code",
      "source": [
        "import numpy as np\n",
        "import pandas as pd\n",
        "import matplotlib.pyplot as plt\n",
        "import cv2\n",
        "import os"
      ],
      "metadata": {
        "id": "oGP-gQgQUlAY"
      },
      "execution_count": 5,
      "outputs": []
    },
    {
      "cell_type": "code",
      "source": [
        "from google.colab import drive\n",
        "drive.mount('/content/gdrive')"
      ],
      "metadata": {
        "colab": {
          "base_uri": "https://localhost:8080/"
        },
        "id": "wRicrfBhV-9y",
        "outputId": "27ba6b65-a22f-4968-f50b-de3c7fd1dff6"
      },
      "execution_count": 24,
      "outputs": [
        {
          "output_type": "stream",
          "name": "stdout",
          "text": [
            "Drive already mounted at /content/gdrive; to attempt to forcibly remount, call drive.mount(\"/content/gdrive\", force_remount=True).\n"
          ]
        }
      ]
    },
    {
      "cell_type": "code",
      "source": [
        "trainDir = \"/content/gdrive/MyDrive/Attendance_project/train\"\n",
        "testDir = \"/content/gdrive/MyDrive/Attendance_project/test\""
      ],
      "metadata": {
        "id": "eul4Q_jlW8rt"
      },
      "execution_count": 25,
      "outputs": []
    },
    {
      "cell_type": "code",
      "source": [
        "myList = os.listdir(trainDir)\n",
        "print(myList)\n",
        "\n",
        "studentNames = []\n",
        "images = []\n",
        "for student in myList:\n",
        "  img = cv2.imread(f'{trainDir}/{student}')\n",
        "  images.append(img)\n",
        "  studentNames.append(os.path.splitext(student)[0])\n",
        "\n",
        "print(studentNames)"
      ],
      "metadata": {
        "colab": {
          "base_uri": "https://localhost:8080/"
        },
        "id": "FZiwfys1foth",
        "outputId": "ca7688dd-3bfa-4c87-cfc3-b10fc52d1854"
      },
      "execution_count": 26,
      "outputs": [
        {
          "output_type": "stream",
          "name": "stdout",
          "text": [
            "['daniel.jpg', 'emma.jpg']\n",
            "['daniel', 'emma']\n"
          ]
        }
      ]
    },
    {
      "cell_type": "code",
      "source": [
        "def findEncodings(images):\n",
        "  encodings = []\n",
        "  for img in images:\n",
        "    img = cv2.cvtColor(img, cv2.COLOR_BGR2RGB)\n",
        "    encoding = face_recognition.face_encodings(img)[0]\n",
        "    encodings.append(encoding)\n",
        "  return encodings"
      ],
      "metadata": {
        "id": "u5DSWfGihUCb"
      },
      "execution_count": 27,
      "outputs": []
    },
    {
      "cell_type": "code",
      "source": [
        "knownEncodings = findEncodings(images)\n",
        "print(len(knownEncodings))"
      ],
      "metadata": {
        "colab": {
          "base_uri": "https://localhost:8080/"
        },
        "id": "tRMwf30_jURN",
        "outputId": "cc498cda-db2b-4eef-a8ed-8ade02f4b3cc"
      },
      "execution_count": 28,
      "outputs": [
        {
          "output_type": "stream",
          "name": "stdout",
          "text": [
            "2\n"
          ]
        }
      ]
    },
    {
      "cell_type": "code",
      "source": [
        "from google.colab.patches import cv2_imshow\n",
        "from datetime import datetime"
      ],
      "metadata": {
        "id": "L995PFLJmPNd"
      },
      "execution_count": 36,
      "outputs": []
    },
    {
      "cell_type": "code",
      "source": [
        "def markAttendance(name):\n",
        "  with open('/content/gdrive/MyDrive/Attendance_project/attendance.csv','r+') as f:\n",
        "    myDataList = f.readlines()\n",
        "    nameList = []\n",
        "    for line in myDataList:\n",
        "      entry = line.split(',')\n",
        "      nameList.append(entry[0])\n",
        "      if name not in nameList:\n",
        "        now = datetime.now()\n",
        "        dtString = now.strftime('%H:%M:%S')\n",
        "        f.writelines(f'n{name},{dtString}')"
      ],
      "metadata": {
        "id": "DCaGoGOhqWwK"
      },
      "execution_count": 39,
      "outputs": []
    },
    {
      "cell_type": "code",
      "source": [
        "cam = cv2.VideoCapture(0)\n",
        "\n",
        "while True:\n",
        "  success, image = cam.read()\n",
        "  imgSmall = cv2.cvtColor(cv2.resize(img, (0, 0), None, 0.2, 0.2), cv2.COLOR_BGR2RGB)\n",
        "  \n",
        "  faceCurr = face_recognition.face_locations(imgSmall)\n",
        "  encodeCurr = face_recognition.face_encodings(imgSmall, faceCurr)\n",
        "\n",
        "  for face, loc in zip(encodeCurr, faceCurr):\n",
        "    matches = face_recognition.compare_faces(knownEncodings, face)\n",
        "    faceDis = face_recognition.face_distance(knownEncodings, face)\n",
        "    print(faceDis)\n",
        "    matchIndex = np.argmin(faceDis)\n",
        "\n",
        "    if faceDis[matchIndex]< 0.50:\n",
        "      name = studentNames[matchIndex].upper()\n",
        "      markAttendance(name)\n",
        "    else: name = 'Unknown'\n",
        "    \n",
        "    y1,x2,y2,x1 = loc\n",
        "    y1, x2, y2, x1 = y1*4,x2*4,y2*4,x1*4\n",
        "    cv2.rectangle(img,(x1,y1),(x2,y2),(0,255,0),2)\n",
        "    cv2.rectangle(img,(x1,y2-35),(x2,y2),(0,255,0),cv2.FILLED)\n",
        "    cv2.putText(img,name,(x1+6,y2-6),cv2.FONT_HERSHEY_COMPLEX,1,(255,255,255),2)\n",
        "\n",
        "  cv2_imshow()\n",
        "  cv2.waitKey(1)"
      ],
      "metadata": {
        "id": "mJGu3G3fj0D7"
      },
      "execution_count": null,
      "outputs": []
    },
    {
      "cell_type": "code",
      "source": [],
      "metadata": {
        "id": "RXpvw6w9okXO"
      },
      "execution_count": null,
      "outputs": []
    }
  ]
}